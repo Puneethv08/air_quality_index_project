{
 "cells": [
  {
   "cell_type": "code",
   "execution_count": 1,
   "id": "3abb75fe-45dc-4105-af22-ce2db934b3ea",
   "metadata": {},
   "outputs": [
    {
     "name": "stdout",
     "output_type": "stream",
     "text": [
      "✅ Data exported successfully to air_quality_data.csv\n"
     ]
    }
   ],
   "source": [
    "import json\n",
    "import csv\n",
    "from datetime import datetime, timezone, timedelta\n",
    "\n",
    "def load_data(filename=\"air_quality_data.json\"):\n",
    "    with open(filename, \"r\") as f:\n",
    "        data = json.load(f)\n",
    "    return data\n",
    "\n",
    "def export_to_csv(data, filename=\"air_quality_data.csv\"):\n",
    "    # Extract timestamp\n",
    "    timestamp_unix = data['list'][0]['dt']\n",
    "    dt_utc = datetime.fromtimestamp(timestamp_unix, tz=timezone.utc)\n",
    "    ist_offset = timedelta(hours=5, minutes=30)\n",
    "    ist = timezone(ist_offset)\n",
    "    dt_local = dt_utc.astimezone(ist)\n",
    "    timestamp_str = dt_local.strftime(\"%Y-%m-%d %I:%M:%S %p\")\n",
    "\n",
    "    # Extract AQI and pollutants\n",
    "    aqi = data['list'][0]['main']['aqi']\n",
    "    pollutants = data['list'][0]['components']\n",
    "\n",
    "    # Prepare CSV headers and row\n",
    "    headers = ['Timestamp', 'AQI'] + [pollutant.upper() for pollutant in pollutants.keys()]\n",
    "    row = [timestamp_str, aqi] + [pollutants[p] for p in pollutants.keys()]\n",
    "\n",
    "    # Write to CSV\n",
    "    with open(filename, 'w', newline='') as csvfile:\n",
    "        writer = csv.writer(csvfile)\n",
    "        writer.writerow(headers)\n",
    "        writer.writerow(row)\n",
    "    \n",
    "    print(f\"✅ Data exported successfully to {filename}\")\n",
    "\n",
    "def main():\n",
    "    data = load_data()\n",
    "    export_to_csv(data)\n",
    "\n",
    "if __name__ == \"__main__\":\n",
    "    main()\n"
   ]
  },
  {
   "cell_type": "code",
   "execution_count": null,
   "id": "bc2fcfdd-4248-4f66-ac14-8e79983cf3bd",
   "metadata": {},
   "outputs": [],
   "source": []
  }
 ],
 "metadata": {
  "kernelspec": {
   "display_name": "Python 3 (ipykernel)",
   "language": "python",
   "name": "python3"
  },
  "language_info": {
   "codemirror_mode": {
    "name": "ipython",
    "version": 3
   },
   "file_extension": ".py",
   "mimetype": "text/x-python",
   "name": "python",
   "nbconvert_exporter": "python",
   "pygments_lexer": "ipython3",
   "version": "3.12.4"
  }
 },
 "nbformat": 4,
 "nbformat_minor": 5
}
